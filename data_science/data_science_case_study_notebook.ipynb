{
  "nbformat": 4,
  "nbformat_minor": 0,
  "metadata": {
    "colab": {
      "provenance": []
    },
    "kernelspec": {
      "name": "python3",
      "display_name": "Python 3"
    },
    "language_info": {
      "name": "python"
    }
  },
  "cells": [
    {
      "cell_type": "markdown",
      "source": [
        "**`Win rate calculation`**"
      ],
      "metadata": {
        "id": "g1EyOGxqw9dY"
      }
    },
    {
      "cell_type": "code",
      "execution_count": 4,
      "metadata": {
        "colab": {
          "base_uri": "https://localhost:8080/"
        },
        "id": "S2J1CSq0t7Bw",
        "outputId": "cce35863-5878-46b5-b71d-0ea277f9f9d4"
      },
      "outputs": [
        {
          "output_type": "execute_result",
          "data": {
            "text/plain": [
              "(   bid_price  total_events  win_events  win_rate  event_probability  \\\n",
              " 0       0.01        100000           0       0.0       8.911774e-03   \n",
              " 1       0.10         10000        3000       0.3       8.911774e-04   \n",
              " 2       0.20      10000000     2000000       0.2       8.911774e-01   \n",
              " 3       0.40       1000000      300000       0.3       8.911774e-02   \n",
              " 4       0.50        100000       20000       0.2       8.911774e-03   \n",
              " 5       0.75         10000        3000       0.3       8.911774e-04   \n",
              " 6       1.00          1000         600       0.6       8.911774e-05   \n",
              " 7       2.00           100          70       0.7       8.911774e-06   \n",
              " 8       5.00            10           8       0.8       8.911774e-07   \n",
              " 9       9.00             1           1       1.0       8.911774e-08   \n",
              " \n",
              "    expected_win_rate  \n",
              " 0       0.000000e+00  \n",
              " 1       2.673532e-04  \n",
              " 2       1.782355e-01  \n",
              " 3       2.673532e-02  \n",
              " 4       1.782355e-03  \n",
              " 5       2.673532e-04  \n",
              " 6       5.347064e-05  \n",
              " 7       6.238241e-06  \n",
              " 8       7.129419e-07  \n",
              " 9       8.911774e-08  ,\n",
              " 0.20734836327704093)"
            ]
          },
          "metadata": {},
          "execution_count": 4
        }
      ],
      "source": [
        "import pandas as pd\n",
        "\n",
        "data = [\n",
        "    {\"app\": \"A\", \"bid_price\": 0.01, \"win\": 0, \"events\": 100000},\n",
        "    {\"app\": \"A\", \"bid_price\": 0.01, \"win\": 1, \"events\": 0},\n",
        "    {\"app\": \"A\", \"bid_price\": 0.1, \"win\": 0, \"events\": 7000},\n",
        "    {\"app\": \"A\", \"bid_price\": 0.1, \"win\": 1, \"events\": 3000},\n",
        "    {\"app\": \"A\", \"bid_price\": 0.2, \"win\": 0, \"events\": 8000000},\n",
        "    {\"app\": \"A\", \"bid_price\": 0.2, \"win\": 1, \"events\": 2000000},\n",
        "    {\"app\": \"A\", \"bid_price\": 0.4, \"win\": 0, \"events\": 700000},\n",
        "    {\"app\": \"A\", \"bid_price\": 0.4, \"win\": 1, \"events\": 300000},\n",
        "    {\"app\": \"A\", \"bid_price\": 0.5, \"win\": 0, \"events\": 80000},\n",
        "    {\"app\": \"A\", \"bid_price\": 0.5, \"win\": 1, \"events\": 20000},\n",
        "    {\"app\": \"A\", \"bid_price\": 0.75, \"win\": 0, \"events\": 7000},\n",
        "    {\"app\": \"A\", \"bid_price\": 0.75, \"win\": 1, \"events\": 3000},\n",
        "    {\"app\": \"A\", \"bid_price\": 1, \"win\": 0, \"events\": 400},\n",
        "    {\"app\": \"A\", \"bid_price\": 1, \"win\": 1, \"events\": 600},\n",
        "    {\"app\": \"A\", \"bid_price\": 2, \"win\": 0, \"events\": 30},\n",
        "    {\"app\": \"A\", \"bid_price\": 2, \"win\": 1, \"events\": 70},\n",
        "    {\"app\": \"A\", \"bid_price\": 5, \"win\": 0, \"events\": 2},\n",
        "    {\"app\": \"A\", \"bid_price\": 5, \"win\": 1, \"events\": 8},\n",
        "    {\"app\": \"A\", \"bid_price\": 9, \"win\": 0, \"events\": 0},\n",
        "    {\"app\": \"A\", \"bid_price\": 9, \"win\": 1, \"events\": 1}\n",
        "]\n",
        "\n",
        "df = pd.DataFrame(data)\n",
        "\n",
        "grouped_df = df.groupby('bid_price').agg(\n",
        "    total_events=('events', 'sum'),\n",
        "    win_events=('events', lambda x: x[df.loc[x.index, 'win'] == 1].sum())\n",
        ").reset_index()\n",
        "\n",
        "grouped_df['win_rate'] = grouped_df['win_events'] / grouped_df['total_events']\n",
        "\n",
        "total_events = grouped_df['total_events'].sum()\n",
        "grouped_df['event_probability'] = grouped_df['total_events'] / total_events\n",
        "grouped_df['expected_win_rate'] = grouped_df['event_probability'] * grouped_df['win_rate']\n",
        "\n",
        "# Calculate the overall expected win rate\n",
        "overall_expected_win_rate = grouped_df['expected_win_rate'].sum()\n",
        "grouped_df, overall_expected_win_rate\n"
      ]
    },
    {
      "cell_type": "markdown",
      "source": [
        "**`Maximize net revenue`**"
      ],
      "metadata": {
        "id": "w9ub7537vomD"
      }
    },
    {
      "cell_type": "code",
      "source": [],
      "metadata": {
        "id": "d8h-kSkAzTcQ"
      },
      "execution_count": null,
      "outputs": []
    },
    {
      "cell_type": "code",
      "source": [
        "advertiser_payment = 0.50\n",
        "\n",
        "grouped_df['net_revenue'] = (advertiser_payment - grouped_df['bid_price']) * grouped_df['win_rate'] * grouped_df['total_events']\n",
        "\n",
        "optimal_bid = grouped_df.loc[grouped_df['net_revenue'].idxmax()]\n",
        "\n",
        "grouped_df, optimal_bid\n"
      ],
      "metadata": {
        "colab": {
          "base_uri": "https://localhost:8080/"
        },
        "id": "_0b293wcz3oX",
        "outputId": "0e55af74-5a1b-49d0-f13f-de9fadbc6b16"
      },
      "execution_count": null,
      "outputs": [
        {
          "output_type": "execute_result",
          "data": {
            "text/plain": [
              "(   bid_price  total_events  win_events  win_rate  net_revenue\n",
              " 0       0.01        100000           0       0.0          0.0\n",
              " 1       0.10         10000        3000       0.3       1200.0\n",
              " 2       0.20      10000000     2000000       0.2     600000.0\n",
              " 3       0.40       1000000      300000       0.3      30000.0\n",
              " 4       0.50        100000       20000       0.2          0.0\n",
              " 5       0.75         10000        3000       0.3       -750.0\n",
              " 6       1.00          1000         600       0.6       -300.0\n",
              " 7       2.00           100          70       0.7       -105.0\n",
              " 8       5.00            10           8       0.8        -36.0\n",
              " 9       9.00             1           1       1.0         -8.5,\n",
              " bid_price              0.2\n",
              " total_events    10000000.0\n",
              " win_events       2000000.0\n",
              " win_rate               0.2\n",
              " net_revenue       600000.0\n",
              " Name: 2, dtype: float64)"
            ]
          },
          "metadata": {},
          "execution_count": 2
        }
      ]
    }
  ]
}